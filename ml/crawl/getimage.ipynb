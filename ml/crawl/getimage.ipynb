{
 "cells": [
  {
   "cell_type": "code",
   "execution_count": 1,
   "metadata": {},
   "outputs": [],
   "source": [
    "from urllib.request import urlopen\n",
    "import argparse\n",
    "import requests as req\n",
    "from bs4 import BeautifulSoup\n",
    "\n",
    "#parser = argparse.ArgumentParser()\n",
    "#parser.add_argument(\"-name\", \"--target\", required=True)\n",
    "\n",
    "#args = parser.parse_args()\n",
    "#target = args.target\n",
    "\n",
    "def run(target):\n",
    "    url_info = \"https://www.google.co.kr/search?\"\n",
    "    params = {\n",
    "        \"q\" : target, #query\n",
    "        \"tbm\":\"isch\"  #to be matched : image search\n",
    "    }\n",
    "    html_object = req.get(url_info,params)\n",
    "    if html_object.status_code == 200:\n",
    "        bs_object = BeautifulSoup(html_object.text,\"html.parser\")\n",
    "        img_data = bs_object.find_all(\"img\")\n",
    "        for i in enumerate(img_data[1:]):\n",
    "            t = urlopen(i[1].attrs['src']).read()\n",
    "            filename = target+str(i[0]+1)+'.jpg'\n",
    "            with open(filename,\"wb\") as f:\n",
    "                f.write(t)\n",
    "                print(\"Image saved as \\'\",f.name,'\\'')"
   ]
  },
  {
   "cell_type": "code",
   "execution_count": 2,
   "metadata": {},
   "outputs": [
    {
     "name": "stdout",
     "output_type": "stream",
     "text": [
      "Image saved as ' fire1.jpg '\n",
      "Image saved as ' fire2.jpg '\n",
      "Image saved as ' fire3.jpg '\n",
      "Image saved as ' fire4.jpg '\n",
      "Image saved as ' fire5.jpg '\n",
      "Image saved as ' fire6.jpg '\n",
      "Image saved as ' fire7.jpg '\n",
      "Image saved as ' fire8.jpg '\n",
      "Image saved as ' fire9.jpg '\n",
      "Image saved as ' fire10.jpg '\n",
      "Image saved as ' fire11.jpg '\n",
      "Image saved as ' fire12.jpg '\n",
      "Image saved as ' fire13.jpg '\n",
      "Image saved as ' fire14.jpg '\n",
      "Image saved as ' fire15.jpg '\n",
      "Image saved as ' fire16.jpg '\n",
      "Image saved as ' fire17.jpg '\n",
      "Image saved as ' fire18.jpg '\n",
      "Image saved as ' fire19.jpg '\n",
      "Image saved as ' fire20.jpg '\n"
     ]
    }
   ],
   "source": [
    "run('fire')"
   ]
  },
  {
   "cell_type": "code",
   "execution_count": null,
   "metadata": {},
   "outputs": [],
   "source": []
  }
 ],
 "metadata": {
  "kernelspec": {
   "display_name": "Python 3",
   "language": "python",
   "name": "python3"
  },
  "language_info": {
   "codemirror_mode": {
    "name": "ipython",
    "version": 3
   },
   "file_extension": ".py",
   "mimetype": "text/x-python",
   "name": "python",
   "nbconvert_exporter": "python",
   "pygments_lexer": "ipython3",
   "version": "3.6.4"
  }
 },
 "nbformat": 4,
 "nbformat_minor": 2
}
