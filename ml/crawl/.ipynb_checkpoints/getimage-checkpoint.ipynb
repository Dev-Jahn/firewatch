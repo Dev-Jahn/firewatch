{
 "cells": [
  {
   "cell_type": "code",
   "execution_count": 5,
   "metadata": {},
   "outputs": [
    {
     "name": "stderr",
     "output_type": "stream",
     "text": [
      "usage: ipykernel_launcher.py [-h] -name TARGET\n",
      "ipykernel_launcher.py: error: the following arguments are required: -name/--target\n"
     ]
    },
    {
     "ename": "SystemExit",
     "evalue": "2",
     "output_type": "error",
     "traceback": [
      "An exception has occurred, use %tb to see the full traceback.\n",
      "\u001b[0;31mSystemExit\u001b[0m\u001b[0;31m:\u001b[0m 2\n"
     ]
    },
    {
     "name": "stderr",
     "output_type": "stream",
     "text": [
      "/home/jahn/anaconda3/lib/python3.6/site-packages/IPython/core/interactiveshell.py:2918: UserWarning: To exit: use 'exit', 'quit', or Ctrl-D.\n",
      "  warn(\"To exit: use 'exit', 'quit', or Ctrl-D.\", stacklevel=1)\n"
     ]
    }
   ],
   "source": [
    "from urllib.request import urlopen\n",
    "import argparse\n",
    "import requests as req\n",
    "from bs4 import BeautifulSoup\n",
    "\n",
    "parser = argparse.ArgumentParser()\n",
    "parser.add_argument(\"-name\", \"--target\", required=True)\n",
    "\n",
    "args = parser.parse_args()\n",
    "target = args.target\n",
    "\n",
    "def main():\n",
    "    url_info = \"https://www.google.co.kr/search?\"\n",
    "    params = {\n",
    "        \"q\" : target, #query\n",
    "        \"tbm\":\"isch\"  #to be matched : image search\n",
    "    }\n",
    "    html_object = req.get(url_info,params)\n",
    "    if html_object.status_code == 200:\n",
    "        bs_object = BeautifulSoup(html_object.text,\"html.parser\")\n",
    "        #인스턴스 생성\n",
    "        img_data = bs_object.find_all(\"img\")\n",
    "        #인스턴스의 find_all 이라는 함수에 img 태그가 있으면 img_data에 넣어줌\n",
    "        for i in enumerate(img_data[1:]):\n",
    "            t = urlopen(i[1].attrs['src']).read()\n",
    "            filename = \"target\"+str(i[0]+1)+'.jpg'\n",
    "            with open(filename,\"wb\") as f:\n",
    "                f.write(t)\n",
    "                print(\"Image saved as \\'\",f.name,'\\'')\n",
    "\n",
    "if __name__==\"__main__\":\n",
    "    main()"
   ]
  },
  {
   "cell_type": "code",
   "execution_count": null,
   "metadata": {},
   "outputs": [],
   "source": []
  }
 ],
 "metadata": {
  "kernelspec": {
   "display_name": "Python 3",
   "language": "python",
   "name": "python3"
  },
  "language_info": {
   "codemirror_mode": {
    "name": "ipython",
    "version": 3
   },
   "file_extension": ".py",
   "mimetype": "text/x-python",
   "name": "python",
   "nbconvert_exporter": "python",
   "pygments_lexer": "ipython3",
   "version": "3.6.4"
  }
 },
 "nbformat": 4,
 "nbformat_minor": 2
}
