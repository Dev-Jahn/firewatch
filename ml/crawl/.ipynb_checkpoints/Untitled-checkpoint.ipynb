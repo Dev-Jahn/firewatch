{
 "cells": [
  {
   "cell_type": "code",
   "execution_count": 1,
   "metadata": {},
   "outputs": [],
   "source": [
    "import os\n",
    "from icrawler.builtin import GoogleImageCrawler"
   ]
  },
  {
   "cell_type": "code",
   "execution_count": 12,
   "metadata": {},
   "outputs": [
    {
     "name": "stderr",
     "output_type": "stream",
     "text": [
      "2019-04-11 03:22:09,074 - INFO - icrawler.crawler - start crawling...\n",
      "2019-04-11 03:22:09,075 - INFO - icrawler.crawler - starting 1 feeder threads...\n",
      "2019-04-11 03:22:09,078 - INFO - feeder - thread feeder-001 exit\n",
      "2019-04-11 03:22:09,079 - INFO - icrawler.crawler - starting 2 parser threads...\n",
      "2019-04-11 03:22:09,086 - INFO - icrawler.crawler - starting 4 downloader threads...\n",
      "2019-04-11 03:22:09,480 - INFO - downloader - downloader-003 is waiting for new download tasks\n",
      "2019-04-11 03:22:09,486 - INFO - downloader - downloader-002 is waiting for new download tasks\n",
      "2019-04-11 03:22:09,522 - INFO - parser - parser-002 is waiting for new page urls\n",
      "2019-04-11 03:22:09,933 - INFO - downloader - downloader-004 is waiting for new download tasks\n",
      "2019-04-11 03:22:10,008 - INFO - parser - parser-001 is waiting for new page urls\n",
      "2019-04-11 03:22:10,814 - INFO - parser - parsing result page https://www.google.com/search?q=pussy+pics&ijn=0&start=0&tbs=cdr%3A1%2Ccd_min%3A01%2F01%2F1990%2Ccd_max%3A12%2F31%2F2019&tbm=isch\n",
      "2019-04-11 03:22:10,940 - INFO - downloader - image #1\thttps://news.artnet.com/app/news-upload/2018/08/DkFJCAHUcAAwfHo-768x1024.jpg\n",
      "2019-04-11 03:22:10,963 - INFO - downloader - downloader-001 is waiting for new download tasks\n",
      "2019-04-11 03:22:11,086 - INFO - parser - no more page urls for thread parser-002 to parse\n",
      "2019-04-11 03:22:11,089 - INFO - parser - thread parser-002 exit\n",
      "2019-04-11 03:22:11,136 - INFO - downloader - image #2\thttps://ae01.alicdn.com/kf/HTB1jUOVrwoQMeJjy1Xaq6ASsFXa9/Eat-pussy-Not-Animals-Red-Letter-Print-Tee-Women-Funny-Tumblr-graphic-t-shirt-Summer-Style.jpg\n",
      "2019-04-11 03:22:11,163 - INFO - downloader - image #3\thttps://www.abc.net.au/radionational/image/4175438-3x2-340x227.jpg\n",
      "2019-04-11 03:22:11,187 - INFO - downloader - image #4\thttps://ih1.redbubble.net/image.15714750.0184/ra,unisex_tshirt,x2200,fafafa:ca443f4786,front-c,392,146,750,1000-bg,f8f8f8.jpg\n",
      "2019-04-11 03:22:11,370 - INFO - downloader - image #5\thttps://images-na.ssl-images-amazon.com/images/I/71oCq96c3PL._SY500_.jpg\n",
      "2019-04-11 03:22:11,503 - INFO - downloader - image #6\thttps://i.ebayimg.com/images/g/GYQAAOSw0xRZmIKH/s-l300.jpg\n",
      "2019-04-11 03:22:11,524 - INFO - parser - parser-002 is waiting for new page urls\n",
      "2019-04-11 03:22:11,819 - INFO - downloader - image #7\thttps://images.blue-tomato.com/is/image/bluetomato/303404778_front.jpg-HGTqHqaYbyvigAct12iMM8WzNe4/Stop+Being+A+Pussy+T+Shirt.jpg?$b8$\n",
      "2019-04-11 03:22:11,901 - INFO - downloader - image #8\thttps://i.ytimg.com/vi/ZGIkGbs1VEc/maxresdefault.jpg\n",
      "2019-04-11 03:22:12,009 - INFO - parser - parser-001 is waiting for new page urls\n",
      "2019-04-11 03:22:12,040 - INFO - downloader - image #9\thttps://media.vanityfair.com/photos/57fb8b3b0c3020dd42f78544/master/w_768,c_limit/melania-trump-pussy-bow-blouse.jpg\n",
      "2019-04-11 03:22:12,097 - INFO - downloader - image #10\thttps://pbs.twimg.com/profile_images/1086257284702003200/5j4xYorr.jpg\n",
      "2019-04-11 03:22:12,628 - INFO - downloader - downloaded images reach max num, thread downloader-003 is ready to exit\n",
      "2019-04-11 03:22:12,631 - INFO - downloader - thread downloader-003 exit\n",
      "2019-04-11 03:22:12,849 - INFO - downloader - downloaded images reach max num, thread downloader-004 is ready to exit\n",
      "2019-04-11 03:22:12,849 - INFO - downloader - thread downloader-004 exit\n",
      "2019-04-11 03:22:12,902 - INFO - downloader - downloaded images reach max num, thread downloader-001 is ready to exit\n",
      "2019-04-11 03:22:12,903 - INFO - downloader - thread downloader-001 exit\n",
      "2019-04-11 03:22:13,349 - INFO - downloader - downloaded images reach max num, thread downloader-002 is ready to exit\n",
      "2019-04-11 03:22:13,351 - INFO - downloader - thread downloader-002 exit\n",
      "2019-04-11 03:22:13,526 - INFO - parser - parser-002 is waiting for new page urls\n",
      "2019-04-11 03:22:14,011 - INFO - parser - parser-001 is waiting for new page urls\n",
      "2019-04-11 03:22:14,093 - INFO - icrawler.crawler - Crawling task done!\n",
      "2019-04-11 03:22:14,101 - INFO - parser - downloaded image reached max num, thread parser-001 is ready to exit\n",
      "2019-04-11 03:22:14,103 - INFO - parser - thread parser-001 exit\n",
      "2019-04-11 03:22:14,482 - INFO - downloader - downloader-003 is waiting for new download tasks\n",
      "2019-04-11 03:22:14,488 - INFO - downloader - downloader-002 is waiting for new download tasks\n",
      "2019-04-11 03:22:14,936 - INFO - downloader - downloader-004 is waiting for new download tasks\n",
      "2019-04-11 03:22:15,528 - INFO - parser - parser-002 is waiting for new page urls\n",
      "2019-04-11 03:22:15,964 - INFO - downloader - downloader-001 is waiting for new download tasks\n",
      "2019-04-11 03:22:16,014 - INFO - parser - parser-001 is waiting for new page urls\n",
      "2019-04-11 03:22:17,530 - INFO - parser - parser-002 is waiting for new page urls\n",
      "2019-04-11 03:22:18,015 - INFO - parser - parser-001 is waiting for new page urls\n",
      "2019-04-11 03:22:19,484 - INFO - downloader - downloader-003 is waiting for new download tasks\n",
      "2019-04-11 03:22:19,490 - INFO - downloader - downloader-002 is waiting for new download tasks\n",
      "2019-04-11 03:22:19,532 - INFO - parser - parser-002 is waiting for new page urls\n",
      "2019-04-11 03:22:19,938 - INFO - downloader - downloader-004 is waiting for new download tasks\n",
      "2019-04-11 03:22:20,017 - INFO - parser - parser-001 is waiting for new page urls\n",
      "2019-04-11 03:22:20,966 - INFO - downloader - downloader-001 is waiting for new download tasks\n",
      "2019-04-11 03:22:21,533 - INFO - parser - parser-002 is waiting for new page urls\n",
      "2019-04-11 03:22:22,019 - INFO - parser - parser-001 is waiting for new page urls\n",
      "2019-04-11 03:22:23,535 - INFO - parser - parser-002 is waiting for new page urls\n",
      "2019-04-11 03:22:24,021 - INFO - parser - parser-001 is waiting for new page urls\n",
      "2019-04-11 03:22:24,486 - INFO - downloader - downloader-003 is waiting for new download tasks\n",
      "2019-04-11 03:22:24,492 - INFO - downloader - downloader-002 is waiting for new download tasks\n",
      "2019-04-11 03:22:24,940 - INFO - downloader - downloader-004 is waiting for new download tasks\n",
      "2019-04-11 03:22:25,537 - INFO - parser - parser-002 is waiting for new page urls\n",
      "2019-04-11 03:22:25,968 - INFO - downloader - downloader-001 is waiting for new download tasks\n",
      "2019-04-11 03:22:26,023 - INFO - parser - parser-001 is waiting for new page urls\n",
      "2019-04-11 03:22:27,539 - INFO - parser - parser-002 is waiting for new page urls\n",
      "2019-04-11 03:22:28,024 - INFO - parser - parser-001 is waiting for new page urls\n",
      "2019-04-11 03:22:29,488 - INFO - downloader - downloader-003 is waiting for new download tasks\n",
      "2019-04-11 03:22:29,495 - INFO - downloader - downloader-002 is waiting for new download tasks\n",
      "2019-04-11 03:22:29,541 - INFO - parser - parser-002 is waiting for new page urls\n",
      "2019-04-11 03:22:29,942 - INFO - downloader - downloader-004 is waiting for new download tasks\n",
      "2019-04-11 03:22:30,026 - INFO - parser - parser-001 is waiting for new page urls\n",
      "2019-04-11 03:22:30,970 - INFO - downloader - downloader-001 is waiting for new download tasks\n",
      "2019-04-11 03:22:31,543 - INFO - parser - parser-002 is waiting for new page urls\n",
      "2019-04-11 03:22:32,028 - INFO - parser - parser-001 is waiting for new page urls\n",
      "2019-04-11 03:22:33,545 - INFO - parser - parser-002 is waiting for new page urls\n",
      "2019-04-11 03:22:34,030 - INFO - parser - parser-001 is waiting for new page urls\n",
      "2019-04-11 03:22:34,490 - INFO - downloader - downloader-003 is waiting for new download tasks\n",
      "2019-04-11 03:22:34,497 - INFO - downloader - downloader-002 is waiting for new download tasks\n",
      "2019-04-11 03:22:34,944 - INFO - downloader - downloader-004 is waiting for new download tasks\n",
      "2019-04-11 03:22:35,547 - INFO - parser - parser-002 is waiting for new page urls\n",
      "2019-04-11 03:22:35,972 - INFO - downloader - downloader-001 is waiting for new download tasks\n",
      "2019-04-11 03:22:36,032 - INFO - parser - parser-001 is waiting for new page urls\n",
      "2019-04-11 03:22:37,549 - INFO - parser - parser-002 is waiting for new page urls\n",
      "2019-04-11 03:22:38,033 - INFO - parser - parser-001 is waiting for new page urls\n",
      "2019-04-11 03:22:39,492 - INFO - downloader - downloader-003 is waiting for new download tasks\n",
      "2019-04-11 03:22:39,498 - INFO - downloader - downloader-002 is waiting for new download tasks\n",
      "2019-04-11 03:22:39,551 - INFO - parser - parser-002 is waiting for new page urls\n"
     ]
    },
    {
     "name": "stderr",
     "output_type": "stream",
     "text": [
      "2019-04-11 03:22:39,945 - INFO - downloader - downloader-004 is waiting for new download tasks\n",
      "2019-04-11 03:22:40,035 - INFO - parser - parser-001 is waiting for new page urls\n",
      "2019-04-11 03:22:40,974 - INFO - downloader - downloader-001 is waiting for new download tasks\n",
      "2019-04-11 03:22:41,553 - INFO - parser - parser-002 is waiting for new page urls\n",
      "2019-04-11 03:22:42,037 - INFO - parser - parser-001 is waiting for new page urls\n",
      "2019-04-11 03:22:43,554 - INFO - parser - parser-002 is waiting for new page urls\n",
      "2019-04-11 03:22:44,039 - INFO - parser - parser-001 is waiting for new page urls\n",
      "2019-04-11 03:22:44,493 - INFO - downloader - downloader-003 is waiting for new download tasks\n",
      "2019-04-11 03:22:44,499 - INFO - downloader - downloader-002 is waiting for new download tasks\n",
      "2019-04-11 03:22:44,948 - INFO - downloader - downloader-004 is waiting for new download tasks\n",
      "2019-04-11 03:22:45,555 - INFO - parser - parser-002 is waiting for new page urls\n",
      "2019-04-11 03:22:45,976 - INFO - downloader - downloader-001 is waiting for new download tasks\n",
      "2019-04-11 03:22:46,040 - INFO - parser - parser-001 is waiting for new page urls\n"
     ]
    }
   ],
   "source": [
    "google_crawler = GoogleImageCrawler(\n",
    "    feeder_threads=1,\n",
    "    parser_threads=2,\n",
    "    downloader_threads=4,\n",
    "    storage={'root_dir':'img'})\n",
    "filters = dict(\n",
    "    #size='>640x480',\n",
    "    #color='red',\n",
    "    #license='',\n",
    "    date=((1990, 1, 1), (2019, 12, 31)))\n",
    "google_crawler.crawl(keyword='', filters=filters, max_num=10, file_idx_offset=0)"
   ]
  },
  {
   "cell_type": "code",
   "execution_count": 5,
   "metadata": {},
   "outputs": [
    {
     "data": {
      "text/plain": [
       "'/home/jahn/firewatch/ml/crawl'"
      ]
     },
     "execution_count": 5,
     "metadata": {},
     "output_type": "execute_result"
    }
   ],
   "source": [
    "os.getcwd()"
   ]
  },
  {
   "cell_type": "code",
   "execution_count": null,
   "metadata": {},
   "outputs": [],
   "source": []
  }
 ],
 "metadata": {
  "kernelspec": {
   "display_name": "Python 3",
   "language": "python",
   "name": "python3"
  },
  "language_info": {
   "codemirror_mode": {
    "name": "ipython",
    "version": 3
   },
   "file_extension": ".py",
   "mimetype": "text/x-python",
   "name": "python",
   "nbconvert_exporter": "python",
   "pygments_lexer": "ipython3",
   "version": "3.6.4"
  }
 },
 "nbformat": 4,
 "nbformat_minor": 2
}
