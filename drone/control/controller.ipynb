{
 "cells": [
  {
   "cell_type": "code",
   "execution_count": 1,
   "metadata": {},
   "outputs": [],
   "source": [
    "import socket\n",
    "from xbox import XboxPad"
   ]
  },
  {
   "cell_type": "code",
   "execution_count": 2,
   "metadata": {},
   "outputs": [
    {
     "name": "stdout",
     "output_type": "stream",
     "text": [
      "Gamepad connected.\n"
     ]
    }
   ],
   "source": [
    "sock = socket.socket(socket.AF_INET, socket.SOCK_DGRAM)\n",
    "xb = XboxPad()"
   ]
  },
  {
   "cell_type": "code",
   "execution_count": 3,
   "metadata": {},
   "outputs": [
    {
     "name": "stdout",
     "output_type": "stream",
     "text": [
      "code:      ABS_Y \tstate: 1399\n",
      "code:      ABS_Y \tstate: 1380\n",
      "code:      ABS_Y \tstate: 1174\n",
      "code:      ABS_Y \tstate: 1152\n",
      "code:      ABS_Y \tstate: 1000\n",
      "code:      ABS_Y \tstate: 1224\n",
      "code:      ABS_Y \tstate: 1521\n",
      "code:      ABS_Y \tstate: 1500\n",
      "code:  BTN_SOUTH \tstate: 1\n",
      "code:  BTN_SOUTH \tstate: 0\n",
      "code:      ABS_Y \tstate: 1519\n",
      "code:      ABS_Y \tstate: 1657\n",
      "code:      ABS_Y \tstate: 1661\n",
      "code:      ABS_Y \tstate: 1670\n",
      "code:      ABS_Y \tstate: 1684\n",
      "code:      ABS_Y \tstate: 1697\n",
      "code:      ABS_Y \tstate: 1707\n",
      "code:      ABS_Y \tstate: 1717\n",
      "code:      ABS_Y \tstate: 1724\n",
      "code:      ABS_Y \tstate: 1730\n",
      "code:      ABS_Y \tstate: 1735\n",
      "code:      ABS_Y \tstate: 1739\n",
      "code:      ABS_Y \tstate: 1742\n",
      "code:      ABS_Y \tstate: 1744\n",
      "code:      ABS_Y \tstate: 1741\n",
      "code:      ABS_Y \tstate: 1734\n",
      "code:      ABS_Y \tstate: 1722\n",
      "code:      ABS_Y \tstate: 1708\n",
      "code:      ABS_Y \tstate: 1691\n",
      "code:      ABS_Y \tstate: 1672\n",
      "code:      ABS_Y \tstate: 1654\n",
      "code:      ABS_Y \tstate: 1635\n",
      "code:      ABS_Y \tstate: 1615\n",
      "code:      ABS_Y \tstate: 1595\n",
      "code:      ABS_Y \tstate: 1571\n",
      "code:      ABS_Y \tstate: 1500\n",
      "code:  BTN_SOUTH \tstate: 1\n",
      "code:  BTN_SOUTH \tstate: 0\n",
      "code:      ABS_Y \tstate: 1584\n",
      "code:      ABS_Y \tstate: 1593\n",
      "code:      ABS_Y \tstate: 1613\n",
      "code:      ABS_Y \tstate: 1749\n",
      "code:      ABS_Y \tstate: 1760\n",
      "code:      ABS_Y \tstate: 1777\n",
      "code:      ABS_Y \tstate: 1820\n",
      "code:      ABS_Y \tstate: 1843\n",
      "code:      ABS_Y \tstate: 1865\n",
      "code:      ABS_Y \tstate: 2000\n",
      "code:      ABS_Y \tstate: 1973\n",
      "code:      ABS_Y \tstate: 1964\n",
      "code:      ABS_Y \tstate: 1948\n",
      "code:      ABS_Y \tstate: 1924\n",
      "code:      ABS_Y \tstate: 1777\n",
      "code:      ABS_Y \tstate: 1764\n",
      "code:      ABS_Y \tstate: 1743\n",
      "code:      ABS_Y \tstate: 1611\n",
      "code:      ABS_Y \tstate: 1604\n",
      "code:      ABS_Y \tstate: 1588\n",
      "code:      ABS_Y \tstate: 1500\n",
      "code:      ABS_Y \tstate: 1401\n",
      "code:      ABS_Y \tstate: 1391\n",
      "code:      ABS_Y \tstate: 1365\n",
      "code:      ABS_Y \tstate: 1175\n",
      "code:      ABS_Y \tstate: 1163\n",
      "code:      ABS_Y \tstate: 1140\n",
      "code:      ABS_Y \tstate: 1000\n",
      "code:      ABS_Y \tstate: 1055\n",
      "code:      ABS_Y \tstate: 1069\n",
      "code:      ABS_Y \tstate: 1091\n",
      "code:      ABS_Y \tstate: 1252\n",
      "code:      ABS_Y \tstate: 1267\n",
      "code:      ABS_Y \tstate: 1291\n",
      "code:      ABS_Y \tstate: 1500\n",
      "code:   BTN_WEST \tstate: 1\n",
      "code:   BTN_WEST \tstate: 0\n",
      "code:   BTN_WEST \tstate: 1\n",
      "code:   BTN_WEST \tstate: 0\n"
     ]
    }
   ],
   "source": [
    "try:\n",
    "    while True:\n",
    "        event = xb.get_event()\n",
    "        if event != None:\n",
    "            code, state = event\n",
    "            print('code:',code.rjust(10),'\\tstate:',state)\n",
    "            sock.sendto((code+':'+str(state)).encode(),\n",
    "                        ('127.0.0.1',6666))\n",
    "                        #('192.168.43.143',6666))\n",
    "except KeyboardInterrupt:\n",
    "    pass"
   ]
  },
  {
   "cell_type": "code",
   "execution_count": null,
   "metadata": {},
   "outputs": [],
   "source": [
    "C"
   ]
  }
 ],
 "metadata": {
  "kernelspec": {
   "display_name": "Python 3",
   "language": "python",
   "name": "python3"
  },
  "language_info": {
   "codemirror_mode": {
    "name": "ipython",
    "version": 3
   },
   "file_extension": ".py",
   "mimetype": "text/x-python",
   "name": "python",
   "nbconvert_exporter": "python",
   "pygments_lexer": "ipython3",
   "version": "3.6.5"
  }
 },
 "nbformat": 4,
 "nbformat_minor": 2
}
