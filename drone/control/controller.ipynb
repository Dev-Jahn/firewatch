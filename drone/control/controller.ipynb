{
 "cells": [
  {
   "cell_type": "code",
   "execution_count": null,
   "metadata": {},
   "outputs": [],
   "source": [
    "import socket\n",
    "from xbox import XboxPad\n",
    "from threading import Thread"
   ]
  },
  {
   "cell_type": "code",
   "execution_count": null,
   "metadata": {},
   "outputs": [],
   "source": [
    "sock = socket.socket(socket.AF_INET, socket.SOCK_DGRAM)\n",
    "xb = XboxPad()"
   ]
  },
  {
   "cell_type": "code",
   "execution_count": null,
   "metadata": {},
   "outputs": [],
   "source": [
    "def send_OK(sock, IP = '192.168.43.143', port = 6666):\n",
    "    if IP == 'LOOP_BACK':\n",
    "        IP = '127.0.0.1'\n",
    "    signal = 'OK'.encode()\n",
    "    while True:\n",
    "        sock.sendto(signal, (IP, port))"
   ]
  },
  {
   "cell_type": "code",
   "execution_count": null,
   "metadata": {},
   "outputs": [],
   "source": [
    "try:\n",
    "    IP = '192.168.43.143'\n",
    "    t = Thread(target = send_OK, args = sock, IP)\n",
    "    t.daemon = True\n",
    "    t.start()\n",
    "    \n",
    "    while True:\n",
    "        event = xb.get_event()\n",
    "        if event != None:\n",
    "            code, state = event\n",
    "            print('code:',code.rjust(10),'\\tstate:',state)\n",
    "            sock.sendto((code+':'+str(state)).encode(),\n",
    "                        ('127.0.0.1',6666))\n",
    "                        #('192.168.43.143',6666))\n",
    "except KeyboardInterrupt:\n",
    "    pass"
   ]
  }
 ],
 "metadata": {
  "kernelspec": {
   "display_name": "Python 3",
   "language": "python",
   "name": "python3"
  },
  "language_info": {
   "codemirror_mode": {
    "name": "ipython",
    "version": 3
   },
   "file_extension": ".py",
   "mimetype": "text/x-python",
   "name": "python",
   "nbconvert_exporter": "python",
   "pygments_lexer": "ipython3",
   "version": "3.7.3"
  }
 },
 "nbformat": 4,
 "nbformat_minor": 2
}
