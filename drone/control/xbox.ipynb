{
 "cells": [
  {
   "cell_type": "code",
   "execution_count": 1,
   "metadata": {},
   "outputs": [],
   "source": [
    "#Event specification\n",
    "#event.ev_type:\n",
    "#    Key:      좌우 범퍼, ABXY, 기타버튼\n",
    "#    Absolute: 좌우트리거, 십자패드, 좌우 아날로그스틱\n",
    "#    Sync:     이벤트발생후 싱크\n",
    "#event.code                      event.state\n",
    "#    ABS_Z:     L트리거             0~255\n",
    "#    ABS_RZ:    R트리거             0~255\n",
    "#    ABS_X:     L아날로그스틱 X축    -32768~32767\n",
    "#    ABS_Y:     L아날로그스틱 Y축    -32768~32767\n",
    "#    ABS_RX:    R아날로그스틱 X축    -32768~32767\n",
    "#    ABS_RY:    R아날로그스틱 Y축    -32768~32767\n",
    "#    ABS_HAT0X: LR십자버튼          L -1, R 1\n",
    "#    ABS_HAT0Y: UD십자버튼          U -1, D 1\n",
    "#    BTN_TL:    L범퍼              누를때 1, 뗄때 0\n",
    "#    BTN_TR:    L범퍼\n",
    "#    BTN_SOUTH: A\n",
    "#    BTN_EAST:  B \n",
    "#    BTN_WEST:  X\n",
    "#    BTN_NORTH: Y\n",
    "#    BTN_THUMBL:L썸버튼\n",
    "#    BTN_THUMBR:R썸버튼\n",
    "#    BTN_START: 좌측메뉴버튼\n",
    "#    BTN_SELECT:우측메뉴버튼"
   ]
  },
  {
   "cell_type": "code",
   "execution_count": 1,
   "metadata": {},
   "outputs": [],
   "source": [
    "import inputs\n",
    "from inputs import devices\n",
    "from inputs import UnpluggedError\n",
    "analog_sticks = ['ABS_X','ABS_Y','ABS_RX','ABS_RY']\n"
   ]
  },
  {
   "cell_type": "code",
   "execution_count": 2,
   "metadata": {},
   "outputs": [],
   "source": [
    "class XboxPad:\n",
    "    def __init__(self, deadzone=8000, a_mid=1500, a_range=1000):\n",
    "        self.deadzone = deadzone\n",
    "        self.a_mid = a_mid \n",
    "        self.a_range = a_range\n",
    "        self.raw_max = 32767\n",
    "        self.raw_min = -32768\n",
    "        self.latest_st = {'ABS_X':a_mid,\n",
    "                          'ABS_Y':a_mid,\n",
    "                          'ABS_RX':a_mid,\n",
    "                          'ABS_RY':a_mid}\n",
    "        if len(devices.gamepads) != 0:\n",
    "            print('Gamepad connected.')\n",
    "        else:\n",
    "            print('Cannot find gamepad.')\n",
    "    #이벤트 리스너\n",
    "    def get_event(self):\n",
    "        try:\n",
    "            events = inputs.get_gamepad()\n",
    "            for event in events:\n",
    "                if event.ev_type != 'Sync':\n",
    "                    # 아날로그스틱 데드존 이하 미세동작 무시\n",
    "                    if event.code in analog_sticks:\n",
    "                        st = self._convert(event.state)\n",
    "                        if self.latest_st[event.code] == self.a_mid and st == self.a_mid:\n",
    "                            return\n",
    "                        else:\n",
    "                            self.latest_st[event.code] = st\n",
    "                            return event.code, st\n",
    "                    # 일반키입력\n",
    "                    else:\n",
    "                        return event.code, event.state\n",
    "                # Sync 이벤트\n",
    "                else:\n",
    "                    return \n",
    "        except UnpluggedError as e:\n",
    "            print(e)\n",
    "            return\n",
    "    # 데드존 컷오프 후 리스케일\n",
    "    def _rescale(self, n):\n",
    "        if abs(n) <= self.deadzone:\n",
    "            return 0\n",
    "        elif n > 0:\n",
    "            return int((n-self.deadzone)*self.raw_max/(self.raw_max-self.deadzone))\n",
    "        elif n < 0:\n",
    "            return int((n+self.deadzone)*self.raw_min/(self.raw_min+self.deadzone))\n",
    "        else:\n",
    "            return n\n",
    "    # 전송신호규격에 맞추어 변환 \n",
    "    def _convert(self, n):\n",
    "        return int((self._rescale(n)-self.raw_min)/(self.raw_max-self.raw_min)*self.a_range+(self.a_mid-self.a_range/2))"
   ]
  },
  {
   "cell_type": "code",
   "execution_count": 3,
   "metadata": {
    "scrolled": true
   },
   "outputs": [
    {
     "name": "stdout",
     "output_type": "stream",
     "text": [
      "Gamepad connected.\n"
     ]
    }
   ],
   "source": [
    "xb = XboxPad()"
   ]
  },
  {
   "cell_type": "code",
   "execution_count": 5,
   "metadata": {},
   "outputs": [
    {
     "name": "stdout",
     "output_type": "stream",
     "text": [
      "<class 'str'>\n",
      "<class 'int'>\n",
      "<class 'str'>\n",
      "<class 'int'>\n"
     ]
    },
    {
     "ename": "KeyboardInterrupt",
     "evalue": "",
     "output_type": "error",
     "traceback": [
      "\u001b[1;31m---------------------------------------------------------------------------\u001b[0m",
      "\u001b[1;31mKeyboardInterrupt\u001b[0m                         Traceback (most recent call last)",
      "\u001b[1;32m<ipython-input-5-db9e445f1821>\u001b[0m in \u001b[0;36m<module>\u001b[1;34m()\u001b[0m\n\u001b[0;32m      1\u001b[0m \u001b[1;32mwhile\u001b[0m \u001b[1;36m1\u001b[0m\u001b[1;33m:\u001b[0m\u001b[1;33m\u001b[0m\u001b[0m\n\u001b[1;32m----> 2\u001b[1;33m     \u001b[0mevent\u001b[0m \u001b[1;33m=\u001b[0m \u001b[0mxb\u001b[0m\u001b[1;33m.\u001b[0m\u001b[0mget_event\u001b[0m\u001b[1;33m(\u001b[0m\u001b[1;33m)\u001b[0m\u001b[1;33m\u001b[0m\u001b[0m\n\u001b[0m\u001b[0;32m      3\u001b[0m     \u001b[1;32mif\u001b[0m \u001b[0mevent\u001b[0m \u001b[1;33m!=\u001b[0m \u001b[1;32mNone\u001b[0m\u001b[1;33m:\u001b[0m\u001b[1;33m\u001b[0m\u001b[0m\n\u001b[0;32m      4\u001b[0m         \u001b[0mcode\u001b[0m\u001b[1;33m,\u001b[0m \u001b[0mstate\u001b[0m \u001b[1;33m=\u001b[0m \u001b[0mevent\u001b[0m\u001b[1;33m\u001b[0m\u001b[0m\n\u001b[0;32m      5\u001b[0m         \u001b[1;31m#print('code:',code.rjust(10),'\\tstate:',state)\u001b[0m\u001b[1;33m\u001b[0m\u001b[1;33m\u001b[0m\u001b[0m\n",
      "\u001b[1;32m<ipython-input-2-1f79c2f15c2e>\u001b[0m in \u001b[0;36mget_event\u001b[1;34m(self)\u001b[0m\n\u001b[0;32m     17\u001b[0m     \u001b[1;32mdef\u001b[0m \u001b[0mget_event\u001b[0m\u001b[1;33m(\u001b[0m\u001b[0mself\u001b[0m\u001b[1;33m)\u001b[0m\u001b[1;33m:\u001b[0m\u001b[1;33m\u001b[0m\u001b[0m\n\u001b[0;32m     18\u001b[0m         \u001b[1;32mtry\u001b[0m\u001b[1;33m:\u001b[0m\u001b[1;33m\u001b[0m\u001b[0m\n\u001b[1;32m---> 19\u001b[1;33m             \u001b[0mevents\u001b[0m \u001b[1;33m=\u001b[0m \u001b[0minputs\u001b[0m\u001b[1;33m.\u001b[0m\u001b[0mget_gamepad\u001b[0m\u001b[1;33m(\u001b[0m\u001b[1;33m)\u001b[0m\u001b[1;33m\u001b[0m\u001b[0m\n\u001b[0m\u001b[0;32m     20\u001b[0m             \u001b[1;32mfor\u001b[0m \u001b[0mevent\u001b[0m \u001b[1;32min\u001b[0m \u001b[0mevents\u001b[0m\u001b[1;33m:\u001b[0m\u001b[1;33m\u001b[0m\u001b[0m\n\u001b[0;32m     21\u001b[0m                 \u001b[1;32mif\u001b[0m \u001b[0mevent\u001b[0m\u001b[1;33m.\u001b[0m\u001b[0mev_type\u001b[0m \u001b[1;33m!=\u001b[0m \u001b[1;34m'Sync'\u001b[0m\u001b[1;33m:\u001b[0m\u001b[1;33m\u001b[0m\u001b[0m\n",
      "\u001b[1;32m~\\Anaconda3\\lib\\site-packages\\inputs.py\u001b[0m in \u001b[0;36mget_gamepad\u001b[1;34m()\u001b[0m\n\u001b[0;32m   3677\u001b[0m     \u001b[1;32mexcept\u001b[0m \u001b[0mIndexError\u001b[0m\u001b[1;33m:\u001b[0m\u001b[1;33m\u001b[0m\u001b[0m\n\u001b[0;32m   3678\u001b[0m         \u001b[1;32mraise\u001b[0m \u001b[0mUnpluggedError\u001b[0m\u001b[1;33m(\u001b[0m\u001b[1;34m\"No gamepad found.\"\u001b[0m\u001b[1;33m)\u001b[0m\u001b[1;33m\u001b[0m\u001b[0m\n\u001b[1;32m-> 3679\u001b[1;33m     \u001b[1;32mreturn\u001b[0m \u001b[0mgamepad\u001b[0m\u001b[1;33m.\u001b[0m\u001b[0mread\u001b[0m\u001b[1;33m(\u001b[0m\u001b[1;33m)\u001b[0m\u001b[1;33m\u001b[0m\u001b[0m\n\u001b[0m",
      "\u001b[1;32m~\\Anaconda3\\lib\\site-packages\\inputs.py\u001b[0m in \u001b[0;36mread\u001b[1;34m(self)\u001b[0m\n\u001b[0;32m   2515\u001b[0m     \u001b[1;32mdef\u001b[0m \u001b[0mread\u001b[0m\u001b[1;33m(\u001b[0m\u001b[0mself\u001b[0m\u001b[1;33m)\u001b[0m\u001b[1;33m:\u001b[0m\u001b[1;33m\u001b[0m\u001b[0m\n\u001b[0;32m   2516\u001b[0m         \u001b[1;34m\"\"\"Read the next input event.\"\"\"\u001b[0m\u001b[1;33m\u001b[0m\u001b[0m\n\u001b[1;32m-> 2517\u001b[1;33m         \u001b[1;32mreturn\u001b[0m \u001b[0mnext\u001b[0m\u001b[1;33m(\u001b[0m\u001b[0miter\u001b[0m\u001b[1;33m(\u001b[0m\u001b[0mself\u001b[0m\u001b[1;33m)\u001b[0m\u001b[1;33m)\u001b[0m\u001b[1;33m\u001b[0m\u001b[0m\n\u001b[0m\u001b[0;32m   2518\u001b[0m \u001b[1;33m\u001b[0m\u001b[0m\n\u001b[0;32m   2519\u001b[0m     \u001b[1;33m@\u001b[0m\u001b[0mproperty\u001b[0m\u001b[1;33m\u001b[0m\u001b[0m\n",
      "\u001b[1;32m~\\Anaconda3\\lib\\site-packages\\inputs.py\u001b[0m in \u001b[0;36m__iter__\u001b[1;34m(self)\u001b[0m\n\u001b[0;32m   2684\u001b[0m         \u001b[1;32mwhile\u001b[0m \u001b[1;32mTrue\u001b[0m\u001b[1;33m:\u001b[0m\u001b[1;33m\u001b[0m\u001b[0m\n\u001b[0;32m   2685\u001b[0m             \u001b[1;32mif\u001b[0m \u001b[0mWIN\u001b[0m\u001b[1;33m:\u001b[0m\u001b[1;33m\u001b[0m\u001b[0m\n\u001b[1;32m-> 2686\u001b[1;33m                 \u001b[0mself\u001b[0m\u001b[1;33m.\u001b[0m\u001b[0m__check_state\u001b[0m\u001b[1;33m(\u001b[0m\u001b[1;33m)\u001b[0m\u001b[1;33m\u001b[0m\u001b[0m\n\u001b[0m\u001b[0;32m   2687\u001b[0m             \u001b[0mevent\u001b[0m \u001b[1;33m=\u001b[0m \u001b[0mself\u001b[0m\u001b[1;33m.\u001b[0m\u001b[0m_do_iter\u001b[0m\u001b[1;33m(\u001b[0m\u001b[1;33m)\u001b[0m\u001b[1;33m\u001b[0m\u001b[0m\n\u001b[0;32m   2688\u001b[0m             \u001b[1;32mif\u001b[0m \u001b[0mevent\u001b[0m\u001b[1;33m:\u001b[0m\u001b[1;33m\u001b[0m\u001b[0m\n",
      "\u001b[1;32m~\\Anaconda3\\lib\\site-packages\\inputs.py\u001b[0m in \u001b[0;36m__check_state\u001b[1;34m(self)\u001b[0m\n\u001b[0;32m   2691\u001b[0m     \u001b[1;32mdef\u001b[0m \u001b[0m__check_state\u001b[0m\u001b[1;33m(\u001b[0m\u001b[0mself\u001b[0m\u001b[1;33m)\u001b[0m\u001b[1;33m:\u001b[0m\u001b[1;33m\u001b[0m\u001b[0m\n\u001b[0;32m   2692\u001b[0m         \u001b[1;34m\"\"\"On Windows, check the state and fill the event character device.\"\"\"\u001b[0m\u001b[1;33m\u001b[0m\u001b[0m\n\u001b[1;32m-> 2693\u001b[1;33m         \u001b[0mstate\u001b[0m \u001b[1;33m=\u001b[0m \u001b[0mself\u001b[0m\u001b[1;33m.\u001b[0m\u001b[0m__read_device\u001b[0m\u001b[1;33m(\u001b[0m\u001b[1;33m)\u001b[0m\u001b[1;33m\u001b[0m\u001b[0m\n\u001b[0m\u001b[0;32m   2694\u001b[0m         \u001b[1;32mif\u001b[0m \u001b[1;32mnot\u001b[0m \u001b[0mstate\u001b[0m\u001b[1;33m:\u001b[0m\u001b[1;33m\u001b[0m\u001b[0m\n\u001b[0;32m   2695\u001b[0m             raise UnpluggedError(\n",
      "\u001b[1;32m~\\Anaconda3\\lib\\site-packages\\inputs.py\u001b[0m in \u001b[0;36m__read_device\u001b[1;34m(self)\u001b[0m\n\u001b[0;32m   2893\u001b[0m         \u001b[0mstate\u001b[0m \u001b[1;33m=\u001b[0m \u001b[0mXinputState\u001b[0m\u001b[1;33m(\u001b[0m\u001b[1;33m)\u001b[0m\u001b[1;33m\u001b[0m\u001b[0m\n\u001b[0;32m   2894\u001b[0m         res = self.manager.xinput.XInputGetState(\n\u001b[1;32m-> 2895\u001b[1;33m             self.__device_number, ctypes.byref(state))\n\u001b[0m\u001b[0;32m   2896\u001b[0m         \u001b[1;32mif\u001b[0m \u001b[0mres\u001b[0m \u001b[1;33m==\u001b[0m \u001b[0mXINPUT_ERROR_SUCCESS\u001b[0m\u001b[1;33m:\u001b[0m\u001b[1;33m\u001b[0m\u001b[0m\n\u001b[0;32m   2897\u001b[0m             \u001b[1;32mreturn\u001b[0m \u001b[0mstate\u001b[0m\u001b[1;33m\u001b[0m\u001b[0m\n",
      "\u001b[1;31mKeyboardInterrupt\u001b[0m: "
     ]
    }
   ],
   "source": [
    "while 1:\n",
    "    event = xb.get_event()\n",
    "    if event != None:\n",
    "        code, state = event\n",
    "        print('code:',code.rjust(10),'\\tstate:',state)"
   ]
  },
  {
   "cell_type": "code",
   "execution_count": null,
   "metadata": {},
   "outputs": [],
   "source": [
    "#진동\n",
    "#devices.gamepads[0].set_vibration(1,1,1000)"
   ]
  }
 ],
 "metadata": {
  "kernelspec": {
   "display_name": "Python 3",
   "language": "python",
   "name": "python3"
  },
  "language_info": {
   "codemirror_mode": {
    "name": "ipython",
    "version": 3
   },
   "file_extension": ".py",
   "mimetype": "text/x-python",
   "name": "python",
   "nbconvert_exporter": "python",
   "pygments_lexer": "ipython3",
   "version": "3.7.3"
  }
 },
 "nbformat": 4,
 "nbformat_minor": 2
}
